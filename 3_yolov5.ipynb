{
  "nbformat": 4,
  "nbformat_minor": 0,
  "metadata": {
    "accelerator": "GPU",
    "colab": {
      "name": "3-yolov5.ipynb",
      "provenance": [],
      "include_colab_link": true
    },
    "kernelspec": {
      "display_name": "Python 3",
      "name": "python3"
    },
    "language_info": {
      "name": "python"
    }
  },
  "cells": [
    {
      "cell_type": "markdown",
      "metadata": {
        "id": "view-in-github",
        "colab_type": "text"
      },
      "source": [
        "<a href=\"https://colab.research.google.com/github/hjh825/practice_yolv5/blob/main/3_yolov5.ipynb\" target=\"_parent\"><img src=\"https://colab.research.google.com/assets/colab-badge.svg\" alt=\"Open In Colab\"/></a>"
      ]
    },
    {
      "cell_type": "code",
      "metadata": {
        "id": "_nfiUA0XUccd"
      },
      "source": [
        "# 업로드 항목\n",
        "# elephant2.png\n",
        "# 20210608.mp4\n",
        "# giraffe.jpg\n",
        "\n",
        "# 마운트 해야함\n",
        "# 경로 설정해줘야 함 : /content/yolov5\n",
        "# 아래 코드 실행을 통해 생성된 파일은 /content/yolov5/runs/detect 에 있음"
      ],
      "execution_count": null,
      "outputs": []
    },
    {
      "cell_type": "code",
      "metadata": {
        "id": "krr3QmoEpAME",
        "colab": {
          "base_uri": "https://localhost:8080/"
        },
        "outputId": "fadc1136-8494-49e2-aee0-a2a79d7d07dd"
      },
      "source": [
        "!git clone https://github.com/ultralytics/yolov5  # clone repo\n",
        "!pip install -qr yolov5/requirements.txt  # install dependencies (ignore errors)\n",
        "%cd yolov5"
      ],
      "execution_count": 3,
      "outputs": [
        {
          "output_type": "stream",
          "text": [
            "Cloning into 'yolov5'...\n",
            "remote: Enumerating objects: 6922, done.\u001b[K\n",
            "remote: Counting objects:   3% (1/28)\u001b[K\rremote: Counting objects:   7% (2/28)\u001b[K\rremote: Counting objects:  10% (3/28)\u001b[K\rremote: Counting objects:  14% (4/28)\u001b[K\rremote: Counting objects:  17% (5/28)\u001b[K\rremote: Counting objects:  21% (6/28)\u001b[K\rremote: Counting objects:  25% (7/28)\u001b[K\rremote: Counting objects:  28% (8/28)\u001b[K\rremote: Counting objects:  32% (9/28)\u001b[K\rremote: Counting objects:  35% (10/28)\u001b[K\rremote: Counting objects:  39% (11/28)\u001b[K\rremote: Counting objects:  42% (12/28)\u001b[K\rremote: Counting objects:  46% (13/28)\u001b[K\rremote: Counting objects:  50% (14/28)\u001b[K\rremote: Counting objects:  53% (15/28)\u001b[K\rremote: Counting objects:  57% (16/28)\u001b[K\rremote: Counting objects:  60% (17/28)\u001b[K\rremote: Counting objects:  64% (18/28)\u001b[K\rremote: Counting objects:  67% (19/28)\u001b[K\rremote: Counting objects:  71% (20/28)\u001b[K\rremote: Counting objects:  75% (21/28)\u001b[K\rremote: Counting objects:  78% (22/28)\u001b[K\rremote: Counting objects:  82% (23/28)\u001b[K\rremote: Counting objects:  85% (24/28)\u001b[K\rremote: Counting objects:  89% (25/28)\u001b[K\rremote: Counting objects:  92% (26/28)\u001b[K\rremote: Counting objects:  96% (27/28)\u001b[K\rremote: Counting objects: 100% (28/28)\u001b[K\rremote: Counting objects: 100% (28/28), done.\u001b[K\n",
            "remote: Compressing objects: 100% (27/27), done.\u001b[K\n",
            "remote: Total 6922 (delta 9), reused 14 (delta 1), pack-reused 6894\u001b[K\n",
            "Receiving objects: 100% (6922/6922), 9.01 MiB | 37.06 MiB/s, done.\n",
            "Resolving deltas: 100% (4745/4745), done.\n",
            "/content/yolov5/yolov5\n"
          ],
          "name": "stdout"
        }
      ]
    },
    {
      "cell_type": "code",
      "metadata": {
        "colab": {
          "base_uri": "https://localhost:8080/"
        },
        "id": "h9skVi8UTyuz",
        "outputId": "6d029c35-c201-46cb-fdc6-62706e909e03"
      },
      "source": [
        "from google.colab import drive\n",
        "drive.mount('/content/drive')"
      ],
      "execution_count": 4,
      "outputs": [
        {
          "output_type": "stream",
          "text": [
            "Drive already mounted at /content/drive; to attempt to forcibly remount, call drive.mount(\"/content/drive\", force_remount=True).\n"
          ],
          "name": "stdout"
        }
      ]
    },
    {
      "cell_type": "code",
      "metadata": {
        "id": "OCHZW_XvpUCr"
      },
      "source": [
        "import torch\n",
        "from IPython.display import Image, clear_output  # to display images\n",
        "from utils.google_utils import gdrive_download  # to download models/datasets"
      ],
      "execution_count": 8,
      "outputs": []
    },
    {
      "cell_type": "code",
      "metadata": {
        "colab": {
          "base_uri": "https://localhost:8080/"
        },
        "id": "QpAGZ8_tU78X",
        "outputId": "ea86173c-2ab3-4b1c-c00c-8a0ce7cabed1"
      },
      "source": [
        "%cd yolov5"
      ],
      "execution_count": 14,
      "outputs": [
        {
          "output_type": "stream",
          "text": [
            "/content/yolov5\n"
          ],
          "name": "stdout"
        }
      ]
    },
    {
      "cell_type": "code",
      "metadata": {
        "colab": {
          "base_uri": "https://localhost:8080/"
        },
        "id": "QNaQnrbWU3ss",
        "outputId": "e643081a-8d74-4673-b05f-cc27e85b43e7"
      },
      "source": [
        "!pwd"
      ],
      "execution_count": 15,
      "outputs": [
        {
          "output_type": "stream",
          "text": [
            "/content/yolov5\n"
          ],
          "name": "stdout"
        }
      ]
    },
    {
      "cell_type": "code",
      "metadata": {
        "colab": {
          "base_uri": "https://localhost:8080/"
        },
        "id": "bSJ8OQh0pZe0",
        "outputId": "a599bccd-51f5-43ba-9ee0-f0d68b6cfc46"
      },
      "source": [
        "!python detect.py --source ../elephant2.png"
      ],
      "execution_count": 16,
      "outputs": [
        {
          "output_type": "stream",
          "text": [
            "Namespace(agnostic_nms=False, augment=False, classes=None, conf_thres=0.25, device='', exist_ok=False, half=False, hide_conf=False, hide_labels=False, img_size=640, iou_thres=0.45, line_thickness=3, max_det=1000, name='exp', nosave=False, project='runs/detect', save_conf=False, save_crop=False, save_txt=False, source='../elephant2.png', update=False, view_img=False, weights='yolov5s.pt')\n",
            "YOLOv5 🚀 v5.0-150-gabb2a96 torch 1.8.1+cu101 CUDA:0 (Tesla T4, 15109.75MB)\n",
            "\n",
            "Downloading https://github.com/ultralytics/yolov5/releases/download/v5.0/yolov5s.pt to yolov5s.pt...\n",
            "100% 14.1M/14.1M [00:00<00:00, 148MB/s]\n",
            "\n",
            "Fusing layers... \n",
            "Model Summary: 224 layers, 7266973 parameters, 0 gradients\n",
            "image 1/1 /content/yolov5/../elephant2.png: 384x640 2 elephants, Done. (0.024s)\n",
            "Results saved to runs/detect/exp\n",
            "Done. (0.117s)\n"
          ],
          "name": "stdout"
        }
      ]
    },
    {
      "cell_type": "code",
      "metadata": {
        "id": "ZqcznB5eqPBq",
        "colab": {
          "base_uri": "https://localhost:8080/"
        },
        "outputId": "c86b38ef-cb6d-46e5-f999-2de94268a452"
      },
      "source": [
        "!python detect.py --source ../giraffe.jpg"
      ],
      "execution_count": 17,
      "outputs": [
        {
          "output_type": "stream",
          "text": [
            "Namespace(agnostic_nms=False, augment=False, classes=None, conf_thres=0.25, device='', exist_ok=False, half=False, hide_conf=False, hide_labels=False, img_size=640, iou_thres=0.45, line_thickness=3, max_det=1000, name='exp', nosave=False, project='runs/detect', save_conf=False, save_crop=False, save_txt=False, source='../giraffe.jpg', update=False, view_img=False, weights='yolov5s.pt')\n",
            "YOLOv5 🚀 v5.0-150-gabb2a96 torch 1.8.1+cu101 CUDA:0 (Tesla T4, 15109.75MB)\n",
            "\n",
            "Fusing layers... \n",
            "Model Summary: 224 layers, 7266973 parameters, 0 gradients\n",
            "image 1/1 /content/yolov5/../giraffe.jpg: 480x640 6 persons, 1 car, 1 giraffe, 1 bowl, Done. (0.014s)\n",
            "Results saved to runs/detect/exp2\n",
            "Done. (0.039s)\n"
          ],
          "name": "stdout"
        }
      ]
    },
    {
      "cell_type": "code",
      "metadata": {
        "colab": {
          "base_uri": "https://localhost:8080/"
        },
        "id": "f0t8vyHnqOvl",
        "outputId": "35616190-c545-4c90-e1c0-62cf1fc1cb81"
      },
      "source": [
        "!python detect.py --source ../20210608.mp4"
      ],
      "execution_count": 18,
      "outputs": [
        {
          "output_type": "stream",
          "text": [
            "Namespace(agnostic_nms=False, augment=False, classes=None, conf_thres=0.25, device='', exist_ok=False, half=False, hide_conf=False, hide_labels=False, img_size=640, iou_thres=0.45, line_thickness=3, max_det=1000, name='exp', nosave=False, project='runs/detect', save_conf=False, save_crop=False, save_txt=False, source='../20210608.mp4', update=False, view_img=False, weights='yolov5s.pt')\n",
            "YOLOv5 🚀 v5.0-150-gabb2a96 torch 1.8.1+cu101 CUDA:0 (Tesla T4, 15109.75MB)\n",
            "\n",
            "Fusing layers... \n",
            "Model Summary: 224 layers, 7266973 parameters, 0 gradients\n",
            "video 1/1 (1/222) /content/yolov5/../20210608.mp4: 384x640 3 tvs, 1 laptop, 3 mouses, 2 keyboards, Done. (0.013s)\n",
            "video 1/1 (2/222) /content/yolov5/../20210608.mp4: 384x640 2 tvs, 1 laptop, 3 mouses, 2 keyboards, Done. (0.011s)\n",
            "video 1/1 (3/222) /content/yolov5/../20210608.mp4: 384x640 2 tvs, 1 laptop, 3 mouses, 2 keyboards, Done. (0.012s)\n",
            "video 1/1 (4/222) /content/yolov5/../20210608.mp4: 384x640 2 tvs, 1 laptop, 3 mouses, 2 keyboards, Done. (0.011s)\n",
            "video 1/1 (5/222) /content/yolov5/../20210608.mp4: 384x640 2 tvs, 1 laptop, 3 mouses, 2 keyboards, Done. (0.012s)\n",
            "video 1/1 (6/222) /content/yolov5/../20210608.mp4: 384x640 2 tvs, 1 laptop, 3 mouses, 2 keyboards, Done. (0.012s)\n",
            "video 1/1 (7/222) /content/yolov5/../20210608.mp4: 384x640 2 tvs, 1 laptop, 3 mouses, 2 keyboards, Done. (0.012s)\n",
            "video 1/1 (8/222) /content/yolov5/../20210608.mp4: 384x640 2 tvs, 1 laptop, 3 mouses, 2 keyboards, Done. (0.011s)\n",
            "video 1/1 (9/222) /content/yolov5/../20210608.mp4: 384x640 2 tvs, 1 laptop, 3 mouses, 2 keyboards, Done. (0.011s)\n",
            "video 1/1 (10/222) /content/yolov5/../20210608.mp4: 384x640 2 tvs, 1 laptop, 3 mouses, 2 keyboards, Done. (0.011s)\n",
            "video 1/1 (11/222) /content/yolov5/../20210608.mp4: 384x640 2 tvs, 1 laptop, 3 mouses, 2 keyboards, Done. (0.012s)\n",
            "video 1/1 (12/222) /content/yolov5/../20210608.mp4: 384x640 2 tvs, 1 laptop, 3 mouses, 2 keyboards, Done. (0.011s)\n",
            "video 1/1 (13/222) /content/yolov5/../20210608.mp4: 384x640 2 tvs, 1 laptop, 3 mouses, 2 keyboards, Done. (0.011s)\n",
            "video 1/1 (14/222) /content/yolov5/../20210608.mp4: 384x640 2 tvs, 1 laptop, 3 mouses, 2 keyboards, Done. (0.011s)\n",
            "video 1/1 (15/222) /content/yolov5/../20210608.mp4: 384x640 2 tvs, 1 laptop, 3 mouses, 2 keyboards, Done. (0.012s)\n",
            "video 1/1 (16/222) /content/yolov5/../20210608.mp4: 384x640 2 tvs, 1 laptop, 3 mouses, 2 keyboards, Done. (0.011s)\n",
            "video 1/1 (17/222) /content/yolov5/../20210608.mp4: 384x640 2 tvs, 1 laptop, 3 mouses, 2 keyboards, Done. (0.012s)\n",
            "video 1/1 (18/222) /content/yolov5/../20210608.mp4: 384x640 2 tvs, 1 laptop, 3 mouses, 2 keyboards, Done. (0.011s)\n",
            "video 1/1 (19/222) /content/yolov5/../20210608.mp4: 384x640 2 tvs, 1 laptop, 3 mouses, 2 keyboards, Done. (0.011s)\n",
            "video 1/1 (20/222) /content/yolov5/../20210608.mp4: 384x640 2 tvs, 1 laptop, 3 mouses, 2 keyboards, Done. (0.011s)\n",
            "video 1/1 (21/222) /content/yolov5/../20210608.mp4: 384x640 2 tvs, 1 laptop, 3 mouses, 2 keyboards, Done. (0.011s)\n",
            "video 1/1 (22/222) /content/yolov5/../20210608.mp4: 384x640 2 tvs, 1 laptop, 3 mouses, 2 keyboards, Done. (0.012s)\n",
            "video 1/1 (23/222) /content/yolov5/../20210608.mp4: 384x640 2 tvs, 1 laptop, 3 mouses, 2 keyboards, Done. (0.011s)\n",
            "video 1/1 (24/222) /content/yolov5/../20210608.mp4: 384x640 2 tvs, 1 laptop, 3 mouses, 2 keyboards, Done. (0.011s)\n",
            "video 1/1 (25/222) /content/yolov5/../20210608.mp4: 384x640 2 tvs, 1 laptop, 3 mouses, 2 keyboards, Done. (0.011s)\n",
            "video 1/1 (26/222) /content/yolov5/../20210608.mp4: 384x640 2 tvs, 1 laptop, 3 mouses, 2 keyboards, Done. (0.011s)\n",
            "video 1/1 (27/222) /content/yolov5/../20210608.mp4: 384x640 2 tvs, 1 laptop, 3 mouses, 2 keyboards, Done. (0.011s)\n",
            "video 1/1 (28/222) /content/yolov5/../20210608.mp4: 384x640 2 tvs, 1 laptop, 3 mouses, 2 keyboards, Done. (0.013s)\n",
            "video 1/1 (29/222) /content/yolov5/../20210608.mp4: 384x640 2 tvs, 1 laptop, 3 mouses, 2 keyboards, Done. (0.012s)\n",
            "video 1/1 (30/222) /content/yolov5/../20210608.mp4: 384x640 2 tvs, 1 laptop, 3 mouses, 2 keyboards, Done. (0.011s)\n",
            "video 1/1 (31/222) /content/yolov5/../20210608.mp4: 384x640 2 tvs, 1 laptop, 3 mouses, 2 keyboards, Done. (0.011s)\n",
            "video 1/1 (32/222) /content/yolov5/../20210608.mp4: 384x640 2 tvs, 1 laptop, 3 mouses, 2 keyboards, Done. (0.012s)\n",
            "video 1/1 (33/222) /content/yolov5/../20210608.mp4: 384x640 2 tvs, 1 laptop, 3 mouses, 2 keyboards, Done. (0.011s)\n",
            "video 1/1 (34/222) /content/yolov5/../20210608.mp4: 384x640 2 tvs, 1 laptop, 3 mouses, 2 keyboards, Done. (0.011s)\n",
            "video 1/1 (35/222) /content/yolov5/../20210608.mp4: 384x640 1 bottle, 2 tvs, 1 laptop, 3 mouses, 2 keyboards, Done. (0.011s)\n",
            "video 1/1 (36/222) /content/yolov5/../20210608.mp4: 384x640 1 bottle, 2 tvs, 1 laptop, 3 mouses, 2 keyboards, Done. (0.011s)\n",
            "video 1/1 (37/222) /content/yolov5/../20210608.mp4: 384x640 2 tvs, 1 laptop, 3 mouses, 2 keyboards, Done. (0.011s)\n",
            "video 1/1 (38/222) /content/yolov5/../20210608.mp4: 384x640 2 tvs, 1 laptop, 3 mouses, 2 keyboards, Done. (0.011s)\n",
            "video 1/1 (39/222) /content/yolov5/../20210608.mp4: 384x640 2 tvs, 1 laptop, 3 mouses, 2 keyboards, Done. (0.011s)\n",
            "video 1/1 (40/222) /content/yolov5/../20210608.mp4: 384x640 2 tvs, 1 laptop, 3 mouses, 2 keyboards, Done. (0.012s)\n",
            "video 1/1 (41/222) /content/yolov5/../20210608.mp4: 384x640 2 tvs, 1 laptop, 3 mouses, 2 keyboards, Done. (0.011s)\n",
            "video 1/1 (42/222) /content/yolov5/../20210608.mp4: 384x640 2 tvs, 1 laptop, 3 mouses, 2 keyboards, Done. (0.011s)\n",
            "video 1/1 (43/222) /content/yolov5/../20210608.mp4: 384x640 2 tvs, 1 laptop, 3 mouses, 2 keyboards, Done. (0.012s)\n",
            "video 1/1 (44/222) /content/yolov5/../20210608.mp4: 384x640 2 tvs, 1 laptop, 3 mouses, 2 keyboards, Done. (0.011s)\n",
            "video 1/1 (45/222) /content/yolov5/../20210608.mp4: 384x640 2 tvs, 1 laptop, 3 mouses, 2 keyboards, Done. (0.012s)\n",
            "video 1/1 (46/222) /content/yolov5/../20210608.mp4: 384x640 2 tvs, 1 laptop, 3 mouses, 2 keyboards, Done. (0.011s)\n",
            "video 1/1 (47/222) /content/yolov5/../20210608.mp4: 384x640 2 tvs, 1 laptop, 3 mouses, 2 keyboards, Done. (0.011s)\n",
            "video 1/1 (48/222) /content/yolov5/../20210608.mp4: 384x640 2 tvs, 1 laptop, 3 mouses, 2 keyboards, Done. (0.011s)\n",
            "video 1/1 (49/222) /content/yolov5/../20210608.mp4: 384x640 2 tvs, 1 laptop, 3 mouses, 2 keyboards, Done. (0.011s)\n",
            "video 1/1 (50/222) /content/yolov5/../20210608.mp4: 384x640 2 tvs, 1 laptop, 3 mouses, 2 keyboards, 1 cell phone, Done. (0.011s)\n",
            "video 1/1 (51/222) /content/yolov5/../20210608.mp4: 384x640 2 tvs, 1 laptop, 3 mouses, 2 keyboards, 1 cell phone, Done. (0.011s)\n",
            "video 1/1 (52/222) /content/yolov5/../20210608.mp4: 384x640 3 tvs, 1 laptop, 3 mouses, 2 keyboards, 1 cell phone, Done. (0.012s)\n",
            "video 1/1 (53/222) /content/yolov5/../20210608.mp4: 384x640 2 tvs, 1 laptop, 3 mouses, 2 keyboards, 1 cell phone, Done. (0.011s)\n",
            "video 1/1 (54/222) /content/yolov5/../20210608.mp4: 384x640 2 tvs, 1 laptop, 3 mouses, 2 keyboards, Done. (0.011s)\n",
            "video 1/1 (55/222) /content/yolov5/../20210608.mp4: 384x640 2 tvs, 1 laptop, 3 mouses, 2 keyboards, Done. (0.011s)\n",
            "video 1/1 (56/222) /content/yolov5/../20210608.mp4: 384x640 2 tvs, 1 laptop, 3 mouses, 2 keyboards, Done. (0.011s)\n",
            "video 1/1 (57/222) /content/yolov5/../20210608.mp4: 384x640 2 tvs, 1 laptop, 3 mouses, 2 keyboards, Done. (0.011s)\n",
            "video 1/1 (58/222) /content/yolov5/../20210608.mp4: 384x640 2 tvs, 1 laptop, 3 mouses, 3 keyboards, Done. (0.011s)\n",
            "video 1/1 (59/222) /content/yolov5/../20210608.mp4: 384x640 1 cup, 2 tvs, 1 laptop, 3 mouses, 3 keyboards, Done. (0.012s)\n",
            "video 1/1 (60/222) /content/yolov5/../20210608.mp4: 384x640 1 cup, 2 tvs, 1 laptop, 3 mouses, 3 keyboards, Done. (0.012s)\n",
            "video 1/1 (61/222) /content/yolov5/../20210608.mp4: 384x640 1 cup, 2 tvs, 1 laptop, 3 mouses, 3 keyboards, Done. (0.011s)\n",
            "video 1/1 (62/222) /content/yolov5/../20210608.mp4: 384x640 1 cup, 2 tvs, 1 laptop, 3 mouses, 3 keyboards, Done. (0.011s)\n",
            "video 1/1 (63/222) /content/yolov5/../20210608.mp4: 384x640 1 cup, 2 tvs, 1 laptop, 3 mouses, 2 keyboards, Done. (0.011s)\n",
            "video 1/1 (64/222) /content/yolov5/../20210608.mp4: 384x640 1 cup, 2 tvs, 1 laptop, 3 mouses, 3 keyboards, Done. (0.011s)\n",
            "video 1/1 (65/222) /content/yolov5/../20210608.mp4: 384x640 1 cup, 3 tvs, 1 laptop, 3 mouses, 2 keyboards, Done. (0.011s)\n",
            "video 1/1 (66/222) /content/yolov5/../20210608.mp4: 384x640 1 cup, 3 tvs, 1 laptop, 3 mouses, 2 keyboards, Done. (0.011s)\n",
            "video 1/1 (67/222) /content/yolov5/../20210608.mp4: 384x640 2 cups, 3 tvs, 1 laptop, 3 mouses, 2 keyboards, Done. (0.011s)\n",
            "video 1/1 (68/222) /content/yolov5/../20210608.mp4: 384x640 2 cups, 3 tvs, 1 laptop, 3 mouses, 2 keyboards, Done. (0.011s)\n",
            "video 1/1 (69/222) /content/yolov5/../20210608.mp4: 384x640 2 cups, 3 tvs, 1 laptop, 3 mouses, 2 keyboards, Done. (0.011s)\n",
            "video 1/1 (70/222) /content/yolov5/../20210608.mp4: 384x640 2 cups, 3 tvs, 1 laptop, 3 mouses, 1 keyboard, Done. (0.012s)\n",
            "video 1/1 (71/222) /content/yolov5/../20210608.mp4: 384x640 2 cups, 3 tvs, 1 laptop, 3 mouses, 2 keyboards, Done. (0.011s)\n",
            "video 1/1 (72/222) /content/yolov5/../20210608.mp4: 384x640 2 cups, 3 tvs, 1 laptop, 3 mouses, 3 keyboards, Done. (0.011s)\n",
            "video 1/1 (73/222) /content/yolov5/../20210608.mp4: 384x640 1 cup, 3 tvs, 1 laptop, 3 mouses, 2 keyboards, Done. (0.012s)\n",
            "video 1/1 (74/222) /content/yolov5/../20210608.mp4: 384x640 2 cups, 3 tvs, 1 laptop, 3 mouses, 3 keyboards, 1 cell phone, Done. (0.012s)\n",
            "video 1/1 (75/222) /content/yolov5/../20210608.mp4: 384x640 2 cups, 3 tvs, 1 laptop, 3 mouses, 2 keyboards, Done. (0.012s)\n",
            "video 1/1 (76/222) /content/yolov5/../20210608.mp4: 384x640 2 cups, 3 tvs, 1 laptop, 3 mouses, 1 keyboard, Done. (0.011s)\n",
            "video 1/1 (77/222) /content/yolov5/../20210608.mp4: 384x640 2 cups, 3 tvs, 1 laptop, 3 mouses, 1 keyboard, Done. (0.012s)\n",
            "video 1/1 (78/222) /content/yolov5/../20210608.mp4: 384x640 2 cups, 3 tvs, 1 laptop, 3 mouses, 2 keyboards, Done. (0.012s)\n",
            "video 1/1 (79/222) /content/yolov5/../20210608.mp4: 384x640 2 cups, 3 tvs, 1 laptop, 3 mouses, 2 keyboards, Done. (0.011s)\n",
            "video 1/1 (80/222) /content/yolov5/../20210608.mp4: 384x640 2 cups, 3 tvs, 1 laptop, 3 mouses, 2 keyboards, Done. (0.012s)\n",
            "video 1/1 (81/222) /content/yolov5/../20210608.mp4: 384x640 2 cups, 3 tvs, 1 laptop, 3 mouses, 2 keyboards, Done. (0.012s)\n",
            "video 1/1 (82/222) /content/yolov5/../20210608.mp4: 384x640 2 cups, 3 tvs, 1 laptop, 3 mouses, 2 keyboards, Done. (0.011s)\n",
            "video 1/1 (83/222) /content/yolov5/../20210608.mp4: 384x640 2 cups, 3 tvs, 1 laptop, 3 mouses, 2 keyboards, Done. (0.011s)\n",
            "video 1/1 (84/222) /content/yolov5/../20210608.mp4: 384x640 2 cups, 3 tvs, 1 laptop, 3 mouses, 2 keyboards, 1 cell phone, Done. (0.011s)\n",
            "video 1/1 (85/222) /content/yolov5/../20210608.mp4: 384x640 2 cups, 3 tvs, 1 laptop, 3 mouses, 2 keyboards, Done. (0.011s)\n",
            "video 1/1 (86/222) /content/yolov5/../20210608.mp4: 384x640 2 cups, 3 tvs, 1 laptop, 3 mouses, 2 keyboards, Done. (0.012s)\n",
            "video 1/1 (87/222) /content/yolov5/../20210608.mp4: 384x640 1 bottle, 2 cups, 3 tvs, 1 laptop, 3 mouses, 2 keyboards, Done. (0.011s)\n",
            "video 1/1 (88/222) /content/yolov5/../20210608.mp4: 384x640 2 cups, 3 tvs, 1 laptop, 3 mouses, 3 keyboards, Done. (0.011s)\n",
            "video 1/1 (89/222) /content/yolov5/../20210608.mp4: 384x640 3 cups, 3 tvs, 1 laptop, 3 mouses, 3 keyboards, 1 cell phone, Done. (0.012s)\n",
            "video 1/1 (90/222) /content/yolov5/../20210608.mp4: 384x640 3 cups, 3 tvs, 1 laptop, 3 mouses, 3 keyboards, Done. (0.011s)\n",
            "video 1/1 (91/222) /content/yolov5/../20210608.mp4: 384x640 3 cups, 3 tvs, 1 laptop, 3 mouses, 1 keyboard, Done. (0.012s)\n",
            "video 1/1 (92/222) /content/yolov5/../20210608.mp4: 384x640 3 cups, 3 tvs, 1 laptop, 3 mouses, 1 keyboard, Done. (0.012s)\n",
            "video 1/1 (93/222) /content/yolov5/../20210608.mp4: 384x640 3 cups, 3 tvs, 1 laptop, 3 mouses, 1 keyboard, Done. (0.012s)\n",
            "video 1/1 (94/222) /content/yolov5/../20210608.mp4: 384x640 3 cups, 3 tvs, 1 laptop, 3 mouses, 1 keyboard, Done. (0.011s)\n",
            "video 1/1 (95/222) /content/yolov5/../20210608.mp4: 384x640 3 cups, 3 tvs, 1 laptop, 3 mouses, 2 keyboards, Done. (0.012s)\n",
            "video 1/1 (96/222) /content/yolov5/../20210608.mp4: 384x640 3 cups, 3 tvs, 1 laptop, 3 mouses, 1 keyboard, Done. (0.012s)\n",
            "video 1/1 (97/222) /content/yolov5/../20210608.mp4: 384x640 3 cups, 3 tvs, 1 laptop, 3 mouses, 1 keyboard, Done. (0.012s)\n",
            "video 1/1 (98/222) /content/yolov5/../20210608.mp4: 384x640 3 cups, 3 tvs, 1 laptop, 3 mouses, 1 keyboard, Done. (0.011s)\n",
            "video 1/1 (99/222) /content/yolov5/../20210608.mp4: 384x640 3 cups, 3 tvs, 1 laptop, 3 mouses, 2 keyboards, Done. (0.011s)\n",
            "video 1/1 (100/222) /content/yolov5/../20210608.mp4: 384x640 3 cups, 3 tvs, 1 laptop, 3 mouses, 2 keyboards, Done. (0.011s)\n",
            "video 1/1 (101/222) /content/yolov5/../20210608.mp4: 384x640 3 cups, 3 tvs, 1 laptop, 3 mouses, 2 keyboards, Done. (0.011s)\n",
            "video 1/1 (102/222) /content/yolov5/../20210608.mp4: 384x640 3 cups, 3 tvs, 1 laptop, 3 mouses, 3 keyboards, Done. (0.011s)\n",
            "video 1/1 (103/222) /content/yolov5/../20210608.mp4: 384x640 3 cups, 3 tvs, 1 laptop, 3 mouses, 2 keyboards, Done. (0.012s)\n",
            "video 1/1 (104/222) /content/yolov5/../20210608.mp4: 384x640 3 cups, 3 tvs, 1 laptop, 3 mouses, 2 keyboards, Done. (0.012s)\n",
            "video 1/1 (105/222) /content/yolov5/../20210608.mp4: 384x640 3 cups, 3 tvs, 1 laptop, 3 mouses, 2 keyboards, Done. (0.011s)\n",
            "video 1/1 (106/222) /content/yolov5/../20210608.mp4: 384x640 3 cups, 3 tvs, 1 laptop, 3 mouses, 3 keyboards, Done. (0.011s)\n",
            "video 1/1 (107/222) /content/yolov5/../20210608.mp4: 384x640 3 cups, 3 tvs, 1 laptop, 3 mouses, 2 keyboards, Done. (0.011s)\n",
            "video 1/1 (108/222) /content/yolov5/../20210608.mp4: 384x640 4 cups, 3 tvs, 1 laptop, 3 mouses, 2 keyboards, Done. (0.012s)\n",
            "video 1/1 (109/222) /content/yolov5/../20210608.mp4: 384x640 4 cups, 3 tvs, 1 laptop, 3 mouses, 2 keyboards, Done. (0.012s)\n",
            "video 1/1 (110/222) /content/yolov5/../20210608.mp4: 384x640 4 cups, 3 tvs, 1 laptop, 3 mouses, 2 keyboards, Done. (0.011s)\n",
            "video 1/1 (111/222) /content/yolov5/../20210608.mp4: 384x640 4 cups, 3 tvs, 1 laptop, 3 mouses, 2 keyboards, Done. (0.012s)\n",
            "video 1/1 (112/222) /content/yolov5/../20210608.mp4: 384x640 4 cups, 3 tvs, 1 laptop, 3 mouses, 2 keyboards, Done. (0.011s)\n",
            "video 1/1 (113/222) /content/yolov5/../20210608.mp4: 384x640 4 cups, 3 tvs, 1 laptop, 3 mouses, 2 keyboards, Done. (0.011s)\n",
            "video 1/1 (114/222) /content/yolov5/../20210608.mp4: 384x640 4 cups, 3 tvs, 1 laptop, 3 mouses, 2 keyboards, Done. (0.012s)\n",
            "video 1/1 (115/222) /content/yolov5/../20210608.mp4: 384x640 4 cups, 3 tvs, 1 laptop, 3 mouses, 2 keyboards, Done. (0.012s)\n",
            "video 1/1 (116/222) /content/yolov5/../20210608.mp4: 384x640 4 cups, 3 tvs, 1 laptop, 3 mouses, 2 keyboards, Done. (0.012s)\n",
            "video 1/1 (117/222) /content/yolov5/../20210608.mp4: 384x640 4 cups, 3 tvs, 1 laptop, 3 mouses, 2 keyboards, Done. (0.011s)\n",
            "video 1/1 (118/222) /content/yolov5/../20210608.mp4: 384x640 4 cups, 3 tvs, 1 laptop, 3 mouses, 2 keyboards, Done. (0.011s)\n",
            "video 1/1 (119/222) /content/yolov5/../20210608.mp4: 384x640 4 cups, 3 tvs, 1 laptop, 3 mouses, 2 keyboards, Done. (0.012s)\n",
            "video 1/1 (120/222) /content/yolov5/../20210608.mp4: 384x640 4 cups, 3 tvs, 1 laptop, 3 mouses, 2 keyboards, Done. (0.012s)\n",
            "video 1/1 (121/222) /content/yolov5/../20210608.mp4: 384x640 4 cups, 3 tvs, 1 laptop, 3 mouses, 2 keyboards, Done. (0.011s)\n",
            "video 1/1 (122/222) /content/yolov5/../20210608.mp4: 384x640 4 cups, 3 tvs, 1 laptop, 3 mouses, 2 keyboards, Done. (0.012s)\n",
            "video 1/1 (123/222) /content/yolov5/../20210608.mp4: 384x640 4 cups, 3 tvs, 1 laptop, 3 mouses, 2 keyboards, Done. (0.011s)\n",
            "video 1/1 (124/222) /content/yolov5/../20210608.mp4: 384x640 4 cups, 3 tvs, 1 laptop, 3 mouses, 2 keyboards, Done. (0.012s)\n",
            "video 1/1 (125/222) /content/yolov5/../20210608.mp4: 384x640 4 cups, 3 tvs, 1 laptop, 3 mouses, 2 keyboards, Done. (0.011s)\n",
            "video 1/1 (126/222) /content/yolov5/../20210608.mp4: 384x640 4 cups, 3 tvs, 1 laptop, 3 mouses, 2 keyboards, Done. (0.011s)\n",
            "video 1/1 (127/222) /content/yolov5/../20210608.mp4: 384x640 4 cups, 3 tvs, 1 laptop, 3 mouses, 1 keyboard, Done. (0.011s)\n",
            "video 1/1 (128/222) /content/yolov5/../20210608.mp4: 384x640 4 cups, 3 tvs, 1 laptop, 3 mouses, 2 keyboards, Done. (0.012s)\n",
            "video 1/1 (129/222) /content/yolov5/../20210608.mp4: 384x640 4 cups, 3 tvs, 1 laptop, 3 mouses, 2 keyboards, Done. (0.012s)\n",
            "video 1/1 (130/222) /content/yolov5/../20210608.mp4: 384x640 4 cups, 3 tvs, 1 laptop, 3 mouses, 2 keyboards, Done. (0.011s)\n",
            "video 1/1 (131/222) /content/yolov5/../20210608.mp4: 384x640 4 cups, 3 tvs, 1 laptop, 3 mouses, 2 keyboards, Done. (0.013s)\n",
            "video 1/1 (132/222) /content/yolov5/../20210608.mp4: 384x640 4 cups, 3 tvs, 1 laptop, 3 mouses, 2 keyboards, Done. (0.012s)\n",
            "video 1/1 (133/222) /content/yolov5/../20210608.mp4: 384x640 4 cups, 3 tvs, 1 laptop, 3 mouses, 2 keyboards, Done. (0.012s)\n",
            "video 1/1 (134/222) /content/yolov5/../20210608.mp4: 384x640 4 cups, 3 tvs, 1 laptop, 3 mouses, 2 keyboards, Done. (0.011s)\n",
            "video 1/1 (135/222) /content/yolov5/../20210608.mp4: 384x640 4 cups, 3 tvs, 1 laptop, 3 mouses, 2 keyboards, Done. (0.012s)\n",
            "video 1/1 (136/222) /content/yolov5/../20210608.mp4: 384x640 4 cups, 3 tvs, 1 laptop, 3 mouses, 2 keyboards, Done. (0.011s)\n",
            "video 1/1 (137/222) /content/yolov5/../20210608.mp4: 384x640 4 cups, 3 tvs, 1 laptop, 3 mouses, 2 keyboards, Done. (0.012s)\n",
            "video 1/1 (138/222) /content/yolov5/../20210608.mp4: 384x640 4 cups, 3 tvs, 1 laptop, 3 mouses, 2 keyboards, Done. (0.011s)\n",
            "video 1/1 (139/222) /content/yolov5/../20210608.mp4: 384x640 1 bottle, 4 cups, 3 tvs, 1 laptop, 2 mouses, 2 keyboards, Done. (0.011s)\n",
            "video 1/1 (140/222) /content/yolov5/../20210608.mp4: 384x640 1 bottle, 4 cups, 3 tvs, 1 laptop, 2 mouses, 2 keyboards, Done. (0.011s)\n",
            "video 1/1 (141/222) /content/yolov5/../20210608.mp4: 384x640 1 bottle, 4 cups, 3 tvs, 1 laptop, 2 mouses, 2 keyboards, Done. (0.012s)\n",
            "video 1/1 (142/222) /content/yolov5/../20210608.mp4: 384x640 4 cups, 3 tvs, 2 laptops, 2 mouses, 2 keyboards, Done. (0.011s)\n",
            "video 1/1 (143/222) /content/yolov5/../20210608.mp4: 384x640 4 cups, 3 tvs, 1 laptop, 2 mouses, 2 keyboards, Done. (0.011s)\n",
            "video 1/1 (144/222) /content/yolov5/../20210608.mp4: 384x640 1 bottle, 4 cups, 3 tvs, 1 laptop, 2 mouses, 1 keyboard, 1 cell phone, Done. (0.012s)\n",
            "video 1/1 (145/222) /content/yolov5/../20210608.mp4: 384x640 1 bottle, 4 cups, 3 tvs, 2 mouses, 1 keyboard, Done. (0.012s)\n",
            "video 1/1 (146/222) /content/yolov5/../20210608.mp4: 384x640 1 bottle, 4 cups, 3 tvs, 2 mouses, 2 keyboards, Done. (0.012s)\n",
            "video 1/1 (147/222) /content/yolov5/../20210608.mp4: 384x640 1 bottle, 4 cups, 3 tvs, 2 mouses, 2 keyboards, Done. (0.011s)\n",
            "video 1/1 (148/222) /content/yolov5/../20210608.mp4: 384x640 1 bottle, 4 cups, 3 tvs, 2 mouses, 1 keyboard, 1 cell phone, Done. (0.011s)\n",
            "video 1/1 (149/222) /content/yolov5/../20210608.mp4: 384x640 1 bottle, 4 cups, 3 tvs, 2 mouses, 1 keyboard, Done. (0.011s)\n",
            "video 1/1 (150/222) /content/yolov5/../20210608.mp4: 384x640 1 bottle, 4 cups, 3 tvs, 2 mouses, 1 keyboard, Done. (0.012s)\n",
            "video 1/1 (151/222) /content/yolov5/../20210608.mp4: 384x640 4 cups, 3 tvs, 2 mouses, 2 keyboards, Done. (0.012s)\n",
            "video 1/1 (152/222) /content/yolov5/../20210608.mp4: 384x640 4 cups, 3 tvs, 2 mouses, 2 keyboards, Done. (0.012s)\n",
            "video 1/1 (153/222) /content/yolov5/../20210608.mp4: 384x640 4 cups, 3 tvs, 2 mouses, 2 keyboards, Done. (0.011s)\n",
            "video 1/1 (154/222) /content/yolov5/../20210608.mp4: 384x640 4 cups, 3 tvs, 2 mouses, 1 keyboard, Done. (0.011s)\n",
            "video 1/1 (155/222) /content/yolov5/../20210608.mp4: 384x640 4 cups, 3 tvs, 2 mouses, 1 keyboard, Done. (0.011s)\n",
            "video 1/1 (156/222) /content/yolov5/../20210608.mp4: 384x640 1 bottle, 4 cups, 3 tvs, 2 mouses, 1 keyboard, Done. (0.011s)\n",
            "video 1/1 (157/222) /content/yolov5/../20210608.mp4: 384x640 1 bottle, 4 cups, 3 tvs, 2 mouses, 1 keyboard, Done. (0.012s)\n",
            "video 1/1 (158/222) /content/yolov5/../20210608.mp4: 384x640 1 bottle, 4 cups, 3 tvs, 2 mouses, 2 keyboards, Done. (0.012s)\n",
            "video 1/1 (159/222) /content/yolov5/../20210608.mp4: 384x640 1 bottle, 4 cups, 3 tvs, 2 mouses, 1 keyboard, Done. (0.011s)\n",
            "video 1/1 (160/222) /content/yolov5/../20210608.mp4: 384x640 1 bottle, 4 cups, 3 tvs, 2 mouses, 1 keyboard, Done. (0.011s)\n",
            "video 1/1 (161/222) /content/yolov5/../20210608.mp4: 384x640 1 bottle, 4 cups, 3 tvs, 2 mouses, 1 keyboard, Done. (0.012s)\n",
            "video 1/1 (162/222) /content/yolov5/../20210608.mp4: 384x640 1 bottle, 4 cups, 3 tvs, 2 mouses, 2 keyboards, Done. (0.011s)\n",
            "video 1/1 (163/222) /content/yolov5/../20210608.mp4: 384x640 1 bottle, 4 cups, 3 tvs, 2 mouses, 1 keyboard, Done. (0.011s)\n",
            "video 1/1 (164/222) /content/yolov5/../20210608.mp4: 384x640 1 bottle, 4 cups, 3 tvs, 2 mouses, 1 keyboard, Done. (0.012s)\n",
            "video 1/1 (165/222) /content/yolov5/../20210608.mp4: 384x640 1 bottle, 4 cups, 3 tvs, 2 mouses, 1 keyboard, Done. (0.011s)\n",
            "video 1/1 (166/222) /content/yolov5/../20210608.mp4: 384x640 1 bottle, 4 cups, 3 tvs, 2 mouses, 1 keyboard, Done. (0.012s)\n",
            "video 1/1 (167/222) /content/yolov5/../20210608.mp4: 384x640 1 bottle, 4 cups, 3 tvs, 2 mouses, 1 keyboard, Done. (0.012s)\n",
            "video 1/1 (168/222) /content/yolov5/../20210608.mp4: 384x640 1 bottle, 4 cups, 3 tvs, 2 mouses, 1 keyboard, Done. (0.012s)\n",
            "video 1/1 (169/222) /content/yolov5/../20210608.mp4: 384x640 1 bottle, 4 cups, 3 tvs, 2 mouses, 1 keyboard, Done. (0.012s)\n",
            "video 1/1 (170/222) /content/yolov5/../20210608.mp4: 384x640 1 bottle, 4 cups, 3 tvs, 2 mouses, 1 keyboard, Done. (0.011s)\n",
            "video 1/1 (171/222) /content/yolov5/../20210608.mp4: 384x640 1 bottle, 4 cups, 3 tvs, 2 mouses, 1 keyboard, Done. (0.012s)\n",
            "video 1/1 (172/222) /content/yolov5/../20210608.mp4: 384x640 1 bottle, 4 cups, 3 tvs, 2 mouses, 1 keyboard, Done. (0.012s)\n",
            "video 1/1 (173/222) /content/yolov5/../20210608.mp4: 384x640 1 bottle, 4 cups, 3 tvs, 2 mouses, 2 keyboards, Done. (0.011s)\n",
            "video 1/1 (174/222) /content/yolov5/../20210608.mp4: 384x640 1 bottle, 4 cups, 3 tvs, 2 mouses, 2 keyboards, Done. (0.011s)\n",
            "video 1/1 (175/222) /content/yolov5/../20210608.mp4: 384x640 1 bottle, 4 cups, 3 tvs, 2 mouses, 2 keyboards, Done. (0.011s)\n",
            "video 1/1 (176/222) /content/yolov5/../20210608.mp4: 384x640 1 bottle, 4 cups, 3 tvs, 2 mouses, 2 keyboards, Done. (0.012s)\n",
            "video 1/1 (177/222) /content/yolov5/../20210608.mp4: 384x640 1 bottle, 4 cups, 3 tvs, 2 mouses, 2 keyboards, Done. (0.012s)\n",
            "video 1/1 (178/222) /content/yolov5/../20210608.mp4: 384x640 1 bottle, 4 cups, 3 tvs, 2 mouses, 2 keyboards, Done. (0.012s)\n",
            "video 1/1 (179/222) /content/yolov5/../20210608.mp4: 384x640 1 bottle, 4 cups, 3 tvs, 2 mouses, 2 keyboards, Done. (0.012s)\n",
            "video 1/1 (180/222) /content/yolov5/../20210608.mp4: 384x640 1 person, 1 bottle, 4 cups, 3 tvs, 2 mouses, 2 keyboards, Done. (0.012s)\n",
            "video 1/1 (181/222) /content/yolov5/../20210608.mp4: 384x640 1 person, 1 bottle, 4 cups, 3 tvs, 2 mouses, 2 keyboards, 1 cell phone, Done. (0.011s)\n",
            "video 1/1 (182/222) /content/yolov5/../20210608.mp4: 384x640 1 bottle, 4 cups, 3 tvs, 2 mouses, 2 keyboards, 1 cell phone, Done. (0.011s)\n",
            "video 1/1 (183/222) /content/yolov5/../20210608.mp4: 384x640 1 bottle, 4 cups, 3 tvs, 3 mouses, 2 keyboards, Done. (0.011s)\n",
            "video 1/1 (184/222) /content/yolov5/../20210608.mp4: 384x640 1 bottle, 4 cups, 3 tvs, 3 mouses, 2 keyboards, Done. (0.012s)\n",
            "video 1/1 (185/222) /content/yolov5/../20210608.mp4: 384x640 1 bottle, 4 cups, 3 tvs, 2 mouses, 2 keyboards, 1 cell phone, Done. (0.011s)\n",
            "video 1/1 (186/222) /content/yolov5/../20210608.mp4: 384x640 1 bottle, 4 cups, 3 tvs, 2 mouses, 2 keyboards, 1 cell phone, Done. (0.011s)\n",
            "video 1/1 (187/222) /content/yolov5/../20210608.mp4: 384x640 1 bottle, 4 cups, 3 tvs, 1 mouse, 1 remote, 2 keyboards, Done. (0.012s)\n",
            "video 1/1 (188/222) /content/yolov5/../20210608.mp4: 384x640 1 bottle, 4 cups, 3 tvs, 3 mouses, 2 keyboards, Done. (0.011s)\n",
            "video 1/1 (189/222) /content/yolov5/../20210608.mp4: 384x640 1 bottle, 4 cups, 3 tvs, 3 mouses, 2 keyboards, Done. (0.011s)\n",
            "video 1/1 (190/222) /content/yolov5/../20210608.mp4: 384x640 1 bottle, 4 cups, 3 tvs, 2 mouses, 2 keyboards, Done. (0.011s)\n",
            "video 1/1 (191/222) /content/yolov5/../20210608.mp4: 384x640 1 bottle, 4 cups, 3 tvs, 2 mouses, 2 keyboards, Done. (0.011s)\n",
            "video 1/1 (192/222) /content/yolov5/../20210608.mp4: 384x640 1 bottle, 4 cups, 3 tvs, 1 mouse, 2 keyboards, Done. (0.012s)\n",
            "video 1/1 (193/222) /content/yolov5/../20210608.mp4: 384x640 1 bottle, 4 cups, 3 tvs, 1 mouse, 2 keyboards, Done. (0.011s)\n",
            "video 1/1 (194/222) /content/yolov5/../20210608.mp4: 384x640 1 bottle, 4 cups, 3 tvs, 1 mouse, 2 keyboards, 1 cell phone, Done. (0.011s)\n",
            "video 1/1 (195/222) /content/yolov5/../20210608.mp4: 384x640 1 bottle, 4 cups, 3 tvs, 2 mouses, 2 keyboards, Done. (0.011s)\n",
            "video 1/1 (196/222) /content/yolov5/../20210608.mp4: 384x640 1 bottle, 4 cups, 3 tvs, 2 mouses, 2 keyboards, Done. (0.011s)\n",
            "video 1/1 (197/222) /content/yolov5/../20210608.mp4: 384x640 1 bottle, 4 cups, 3 tvs, 2 mouses, 2 keyboards, Done. (0.012s)\n",
            "video 1/1 (198/222) /content/yolov5/../20210608.mp4: 384x640 1 bottle, 4 cups, 3 tvs, 2 mouses, 2 keyboards, Done. (0.012s)\n",
            "video 1/1 (199/222) /content/yolov5/../20210608.mp4: 384x640 1 bottle, 4 cups, 3 tvs, 2 mouses, 2 keyboards, Done. (0.011s)\n",
            "video 1/1 (200/222) /content/yolov5/../20210608.mp4: 384x640 1 bottle, 4 cups, 3 tvs, 2 mouses, 1 keyboard, Done. (0.011s)\n",
            "video 1/1 (201/222) /content/yolov5/../20210608.mp4: 384x640 1 bottle, 4 cups, 3 tvs, 2 mouses, 1 keyboard, Done. (0.011s)\n",
            "video 1/1 (202/222) /content/yolov5/../20210608.mp4: 384x640 1 bottle, 4 cups, 3 tvs, 2 mouses, 1 keyboard, Done. (0.012s)\n",
            "video 1/1 (203/222) /content/yolov5/../20210608.mp4: 384x640 1 bottle, 4 cups, 3 tvs, 1 mouse, 1 keyboard, 1 cell phone, Done. (0.011s)\n",
            "video 1/1 (204/222) /content/yolov5/../20210608.mp4: 384x640 1 bottle, 4 cups, 3 tvs, 2 mouses, 1 keyboard, 1 cell phone, Done. (0.012s)\n",
            "video 1/1 (205/222) /content/yolov5/../20210608.mp4: 384x640 1 bottle, 4 cups, 3 tvs, 2 mouses, 2 keyboards, 1 cell phone, Done. (0.011s)\n",
            "video 1/1 (206/222) /content/yolov5/../20210608.mp4: 384x640 1 bottle, 4 cups, 3 tvs, 1 mouse, 1 keyboard, 1 cell phone, Done. (0.011s)\n",
            "video 1/1 (207/222) /content/yolov5/../20210608.mp4: 384x640 1 bottle, 4 cups, 3 tvs, 2 mouses, 2 keyboards, 1 cell phone, Done. (0.012s)\n",
            "video 1/1 (208/222) /content/yolov5/../20210608.mp4: 384x640 1 bottle, 4 cups, 3 tvs, 1 mouse, 2 keyboards, 1 cell phone, Done. (0.011s)\n",
            "video 1/1 (209/222) /content/yolov5/../20210608.mp4: 384x640 1 bottle, 4 cups, 3 tvs, 1 mouse, 2 keyboards, 1 cell phone, Done. (0.012s)\n",
            "video 1/1 (210/222) /content/yolov5/../20210608.mp4: 384x640 1 bottle, 4 cups, 3 tvs, 1 mouse, 2 keyboards, 1 cell phone, Done. (0.012s)\n",
            "video 1/1 (211/222) /content/yolov5/../20210608.mp4: 384x640 1 bottle, 4 cups, 3 tvs, 1 mouse, 2 keyboards, 1 cell phone, Done. (0.011s)\n",
            "video 1/1 (212/222) /content/yolov5/../20210608.mp4: 384x640 1 bottle, 4 cups, 3 tvs, 1 mouse, 2 keyboards, 1 cell phone, Done. (0.012s)\n",
            "video 1/1 (213/222) /content/yolov5/../20210608.mp4: 384x640 1 bottle, 4 cups, 3 tvs, 1 mouse, 2 keyboards, 1 cell phone, Done. (0.011s)\n",
            "video 1/1 (214/222) /content/yolov5/../20210608.mp4: 384x640 1 bottle, 4 cups, 3 tvs, 1 mouse, 2 keyboards, 1 cell phone, Done. (0.012s)\n",
            "video 1/1 (215/222) /content/yolov5/../20210608.mp4: 384x640 1 bottle, 4 cups, 3 tvs, 2 mouses, 2 keyboards, 1 cell phone, Done. (0.012s)\n",
            "video 1/1 (216/222) /content/yolov5/../20210608.mp4: 384x640 1 bottle, 4 cups, 3 tvs, 2 mouses, 2 keyboards, 1 cell phone, Done. (0.012s)\n",
            "video 1/1 (217/222) /content/yolov5/../20210608.mp4: 384x640 1 bottle, 4 cups, 3 tvs, 2 mouses, 2 keyboards, Done. (0.012s)\n",
            "video 1/1 (218/222) /content/yolov5/../20210608.mp4: 384x640 1 bottle, 4 cups, 3 tvs, 2 mouses, 2 keyboards, Done. (0.012s)\n",
            "video 1/1 (219/222) /content/yolov5/../20210608.mp4: 384x640 1 bottle, 4 cups, 3 tvs, 2 mouses, 2 keyboards, Done. (0.011s)\n",
            "video 1/1 (220/222) /content/yolov5/../20210608.mp4: 384x640 1 bottle, 4 cups, 3 tvs, 2 mouses, 2 keyboards, Done. (0.011s)\n",
            "video 1/1 (221/222) /content/yolov5/../20210608.mp4: 384x640 1 bottle, 4 cups, 3 tvs, 2 mouses, 2 keyboards, Done. (0.012s)\n",
            "video 1/1 (222/222) /content/yolov5/../20210608.mp4: 384x640 1 bottle, 4 cups, 3 tvs, 2 mouses, 2 keyboards, Done. (0.011s)\n",
            "Results saved to runs/detect/exp3\n",
            "Done. (9.924s)\n"
          ],
          "name": "stdout"
        }
      ]
    }
  ]
}